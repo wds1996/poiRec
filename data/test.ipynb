{
 "cells": [
  {
   "cell_type": "code",
   "execution_count": 3,
   "id": "8f0b237e",
   "metadata": {},
   "outputs": [],
   "source": [
    "import pandas as pd\n",
    "from datetime import datetime, timedelta\n",
    "from collections import defaultdict\n",
    "import csv\n",
    "from datetime import datetime, timezone, timedelta\n",
    "from openlocationcode import openlocationcode as olc\n",
    "import os\n",
    "import json\n",
    "import numpy as np"
   ]
  },
  {
   "cell_type": "code",
   "execution_count": 2,
   "id": "dfa79e4a",
   "metadata": {},
   "outputs": [
    {
     "name": "stdout",
     "output_type": "stream",
     "text": [
      "✅ 清洗完成！结果已保存到: NYC/cleaned_test_sequences.csv\n"
     ]
    }
   ],
   "source": [
    "import pandas as pd\n",
    "import ast\n",
    "\n",
    "def keep_first_k_consecutive(seq, k=2):\n",
    "    \"\"\"对序列中连续相同的值（包括0），最多保留前k次\"\"\"\n",
    "    if not seq:\n",
    "        return []\n",
    "    result = [seq[0]]\n",
    "    prev = seq[0]\n",
    "    count = 1\n",
    "    for x in seq[1:]:\n",
    "        if x == prev:\n",
    "            if count < k:\n",
    "                result.append(x)\n",
    "                count += 1\n",
    "            # else: 跳过第k+1次及以后的连续重复\n",
    "        else:\n",
    "            result.append(x)\n",
    "            prev = x\n",
    "            count = 1\n",
    "    return result\n",
    "\n",
    "def clean_pid_sequence(seq_str, k=2):\n",
    "    \"\"\"\n",
    "    输入：字符串形式的列表，如 \"[0, 1, 1, 1, 2]\"\n",
    "    输出：清洗后的字符串形式列表，如 \"[0, 1, 1, 2]\"\n",
    "    \"\"\"\n",
    "    try:\n",
    "        seq = ast.literal_eval(seq_str)\n",
    "    except (ValueError, SyntaxError):\n",
    "        return \"[]\"\n",
    "\n",
    "    cleaned = keep_first_k_consecutive(seq, k)\n",
    "    return str(cleaned)\n",
    "\n",
    "# ===== 主程序 =====\n",
    "datafold = \"NYC\" \n",
    "model = \"test\" \n",
    "input_file = f\"{datafold}/{model}_sequences.csv\"\n",
    "output_file = f\"{datafold}/cleaned_{model}_sequences.csv\"\n",
    "\n",
    "# 读取数据\n",
    "df = pd.read_csv(input_file)\n",
    "\n",
    "# 清洗 pid_sequence 列\n",
    "df['pid_sequence'] = df['pid_sequence'].apply(clean_pid_sequence)\n",
    "\n",
    "# 保存结果\n",
    "df.to_csv(output_file, index=False)\n",
    "\n",
    "print(f\"✅ 清洗完成！结果已保存到: {output_file}\")"
   ]
  },
  {
   "cell_type": "code",
   "execution_count": null,
   "id": "2efbf5fa",
   "metadata": {},
   "outputs": [
    {
     "name": "stdout",
     "output_type": "stream",
     "text": [
      "Total POIs: 5081\n",
      "Matrix saved to NYC/cleaned_poi_transition_matrix.npy\n",
      "Transition matrix shape: (5081, 5081)\n",
      "Example: POI 0 -> POI 0 count = 5\n"
     ]
    }
   ],
   "source": [
    "def build_poi_transition_matrix(data_path, save_path=None):\n",
    "    # 1. 读取序列文件\n",
    "    df = pd.read_csv(data_path)\n",
    "    # 还原 pid_sequence 为 list\n",
    "    df['pid_sequence'] = df['pid_sequence'].apply(json.loads)\n",
    "\n",
    "    # 2. 收集所有 POI，确定 M\n",
    "    all_pids = set()\n",
    "    for seq in df['pid_sequence']:\n",
    "        all_pids.update(seq)\n",
    "    all_pids = sorted(all_pids)\n",
    "    pid_to_idx = {pid: idx for idx, pid in enumerate(all_pids)}\n",
    "    M = len(all_pids)\n",
    "    print(f\"Total POIs: {M}\")\n",
    "\n",
    "    # 3. 统计转移频次\n",
    "    # 使用 defaultdict(int) 或直接用 numpy zeros\n",
    "    transition_counts = defaultdict(int)\n",
    "\n",
    "    for seq in df['pid_sequence']:\n",
    "        for i in range(len(seq) - 1):\n",
    "            from_pid = seq[i]\n",
    "            to_pid = seq[i + 1]\n",
    "            # 可选：跳过自环（如 0->0）？根据需求决定\n",
    "            # if from_pid == to_pid: continue\n",
    "            transition_counts[(from_pid, to_pid)] += 1\n",
    "\n",
    "    # 4. 构建矩阵（稠密）\n",
    "    A = np.zeros((M, M), dtype=np.int32)\n",
    "    for (i, j), count in transition_counts.items():\n",
    "        if i in pid_to_idx and j in pid_to_idx:\n",
    "            A[pid_to_idx[i], pid_to_idx[j]] = count\n",
    "\n",
    "    # 5. （可选）保存矩阵和映射\n",
    "    if save_path:\n",
    "        np.save(f\"{save_path}_matrix.npy\", A)\n",
    "        print(f\"Matrix saved to {save_path}_matrix.npy\")\n",
    "\n",
    "    return A, pid_to_idx, all_pids\n",
    "\n",
    "# 使用示例\n",
    "datafold = 'NYC'\n",
    "A, pid_to_idx, all_pids = build_poi_transition_matrix(\n",
    "    data_path=f\"{datafold}/cleaned_train_sequences.csv\",\n",
    "    save_path=f\"{datafold}/cleaned_poi_transition\"\n",
    ")\n",
    "print(\"Transition matrix shape:\", A.shape)\n",
    "print(\"Example: POI 0 -> POI 0 count =\", A[pid_to_idx[0], pid_to_idx[0]])"
   ]
  },
  {
   "cell_type": "code",
   "execution_count": 12,
   "id": "5ffe9eb7",
   "metadata": {},
   "outputs": [
    {
     "name": "stdout",
     "output_type": "stream",
     "text": [
      "Positive pairs (i, j): [[   0    0]\n",
      " [   0 3872]\n",
      " [   1    1]\n",
      " ...\n",
      " [5078 5079]\n",
      " [5079 5078]\n",
      " [5079 5079]]\n",
      "14520 positive pairs found with count >= 2\n"
     ]
    }
   ],
   "source": [
    "Matrix = np.load(f\"{datafold}/cleaned_poi_transition_matrix.npy\")\n",
    "k = 2  # 阈值\n",
    "pos_pairs = np.argwhere(Matrix >= k)  # 取出正样本对 (i, j)\n",
    "\n",
    "print(\"Positive pairs (i, j):\", pos_pairs)\n",
    "print(len(pos_pairs), \"positive pairs found with count >=\", k)"
   ]
  },
  {
   "cell_type": "code",
   "execution_count": null,
   "id": "3c21fdc9",
   "metadata": {},
   "outputs": [],
   "source": [
    "\n"
   ]
  }
 ],
 "metadata": {
  "kernelspec": {
   "display_name": "poiRe",
   "language": "python",
   "name": "python3"
  },
  "language_info": {
   "codemirror_mode": {
    "name": "ipython",
    "version": 3
   },
   "file_extension": ".py",
   "mimetype": "text/x-python",
   "name": "python",
   "nbconvert_exporter": "python",
   "pygments_lexer": "ipython3",
   "version": "3.10.15"
  }
 },
 "nbformat": 4,
 "nbformat_minor": 5
}
